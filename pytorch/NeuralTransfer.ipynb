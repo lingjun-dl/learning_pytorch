{
 "cells": [
  {
   "cell_type": "markdown",
   "metadata": {},
   "source": [
    "# Neural transfer by pytorch"
   ]
  },
  {
   "cell_type": "markdown",
   "metadata": {},
   "source": [
    "- arxiv paper [link](https://arxiv.org/pdf/1508.06576.pdf)\n",
    "- pytorch code [link](https://pytorch.org/tutorials/advanced/neural_style_tutorial.html)"
   ]
  },
  {
   "cell_type": "markdown",
   "metadata": {},
   "source": [
    "#### UNDERLYING PRINCIPLE\n",
    "The principle is simple: we define two distances, one for the content ($D_C$) and one for the style ($D_S$). $D_C$ measures how different the content is between two images while $D_S$ measures how different the style is between two images. Then, we take a `third image`, the input, and transform it to **minimize** both its `content-distance` with the content-image and its `style-distance` with the style-image. "
   ]
  },
  {
   "cell_type": "markdown",
   "metadata": {},
   "source": [
    "#### necessary packages\n",
    "Below is a list of the packages needed to implement the neural transfer.\n",
    "\n",
    "- `torch`, `torch.nn`, `numpy` (indispensables packages for neural networks with PyTorch)\n",
    "- `torch.optim` (efficient gradient descents)\n",
    "- `PIL`, `PIL.Image`, `matplotlib.pyplot` (load and display images)\n",
    "- `torchvision.transforms` (transform PIL images into tensors)\n",
    "- `torchvision.models` (train or load pre-trained models)\n",
    "- `copy` (to deep copy the models; system package)"
   ]
  },
  {
   "cell_type": "code",
   "execution_count": null,
   "metadata": {},
   "outputs": [],
   "source": []
  }
 ],
 "metadata": {
  "kernelspec": {
   "display_name": "Python 3",
   "language": "python",
   "name": "python3"
  },
  "language_info": {
   "codemirror_mode": {
    "name": "ipython",
    "version": 3
   },
   "file_extension": ".py",
   "mimetype": "text/x-python",
   "name": "python",
   "nbconvert_exporter": "python",
   "pygments_lexer": "ipython3",
   "version": "3.6.6"
  }
 },
 "nbformat": 4,
 "nbformat_minor": 2
}
